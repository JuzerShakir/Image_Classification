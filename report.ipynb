{
 "cells": [
  {
   "cell_type": "markdown",
   "metadata": {},
   "source": [
    "# Image Classification\n",
    "In this project, you'll classify images from the [CIFAR-10 dataset](https://www.cs.toronto.edu/~kriz/cifar.html).  The dataset consists of airplanes, dogs, cats, and other objects. You'll preprocess the images, then train a convolutional neural network on all the samples. The images need to be normalized and the labels need to be one-hot encoded.  You'll get to apply what you learned and build a convolutional, max pooling, dropout, and fully connected layers.  At the end, you'll get to see your neural network's predictions on the sample images.\n",
    "## Get the Data\n",
    "Run the following cell to download the [CIFAR-10 dataset for python](https://www.cs.toronto.edu/~kriz/cifar-10-python.tar.gz)."
   ]
  },
  {
   "cell_type": "code",
   "execution_count": 1,
   "metadata": {
    "collapsed": false
   },
   "outputs": [
    {
     "name": "stdout",
     "output_type": "stream",
     "text": [
      "All files found!\n"
     ]
    }
   ],
   "source": [
    "\"\"\"\n",
    "DON'T MODIFY ANYTHING IN THIS CELL THAT IS BELOW THIS LINE\n",
    "\"\"\"\n",
    "from urllib.request import urlretrieve\n",
    "from os.path import isfile, isdir\n",
    "from tqdm import tqdm\n",
    "import problem_unittests as tests\n",
    "import tarfile\n",
    "\n",
    "cifar10_dataset_folder_path = 'cifar-10-batches-py'\n",
    "\n",
    "class DLProgress(tqdm):\n",
    "    last_block = 0\n",
    "\n",
    "    def hook(self, block_num=1, block_size=1, total_size=None):\n",
    "        self.total = total_size\n",
    "        self.update((block_num - self.last_block) * block_size)\n",
    "        self.last_block = block_num\n",
    "\n",
    "if not isfile('cifar-10-python.tar.gz'):\n",
    "    with DLProgress(unit='B', unit_scale=True, miniters=1, desc='CIFAR-10 Dataset') as pbar:\n",
    "        urlretrieve(\n",
    "            'https://www.cs.toronto.edu/~kriz/cifar-10-python.tar.gz',\n",
    "            'cifar-10-python.tar.gz',\n",
    "            pbar.hook)\n",
    "\n",
    "if not isdir(cifar10_dataset_folder_path):\n",
    "    with tarfile.open('cifar-10-python.tar.gz') as tar:\n",
    "        tar.extractall()\n",
    "        tar.close()\n",
    "\n",
    "\n",
    "tests.test_folder_path(cifar10_dataset_folder_path)"
   ]
  },
  {
   "cell_type": "markdown",
   "metadata": {},
   "source": [
    "## Explore the Data\n",
    "The dataset is broken into batches to prevent your machine from running out of memory.  The CIFAR-10 dataset consists of 5 batches, named `data_batch_1`, `data_batch_2`, etc.. Each batch contains the labels and images that are one of the following:\n",
    "* airplane\n",
    "* automobile\n",
    "* bird\n",
    "* cat\n",
    "* deer\n",
    "* dog\n",
    "* frog\n",
    "* horse\n",
    "* ship\n",
    "* truck\n",
    "\n",
    "Understanding a dataset is part of making predictions on the data.  Play around with the code cell below by changing the `batch_id` and `sample_id`. The `batch_id` is the id for a batch (1-5). The `sample_id` is the id for a image and label pair in the batch.\n",
    "\n",
    "Ask yourself \"What are all possible labels?\", \"What is the range of values for the image data?\", \"Are the labels in order or random?\".  Answers to questions like these will help you preprocess the data and end up with better predictions."
   ]
  },
  {
   "cell_type": "code",
   "execution_count": 11,
   "metadata": {
    "collapsed": false
   },
   "outputs": [
    {
     "name": "stdout",
     "output_type": "stream",
     "text": [
      "\n",
      "Stats of batch 1:\n",
      "Samples: 10000\n",
      "Label Counts: {0: 1005, 1: 974, 2: 1032, 3: 1016, 4: 999, 5: 937, 6: 1030, 7: 1001, 8: 1025, 9: 981}\n",
      "First 20 Labels: [6, 9, 9, 4, 1, 1, 2, 7, 8, 3, 4, 7, 7, 2, 9, 9, 9, 3, 2, 6]\n",
      "\n",
      "Example of Image 240:\n",
      "Image - Min Value: 28 Max Value: 255\n",
      "Image - Shape: (32, 32, 3)\n",
      "Label - Label Id: 8 Name: ship\n"
     ]
    },
    {
     "data": {
      "image/png": "[encoded data removed]",
      "text/plain": [
       "<Figure size 432x288 with 1 Axes>"
      ]
     },
     "metadata": {
      "image/png": {
       "height": 250,
       "width": 253
      }
     },
     "output_type": "display_data"
    }
   ],
   "source": [
    "%matplotlib inline\n",
    "%config InlineBackend.figure_format = 'retina'\n",
    "\n",
    "import helper\n",
    "import numpy as np\n",
    "\n",
    "# Explore the dataset\n",
    "batch_id = 1\n",
    "sample_id = 240\n",
    "helper.display_stats(cifar10_dataset_folder_path, batch_id, sample_id)"
   ]
  },
  {
   "cell_type": "markdown",
   "metadata": {},
   "source": [
    "## Implement Preprocess Functions\n",
    "### Normalize\n",
    "In the cell below, implement the `normalize` function to take in image data, `x`, and return it as a normalized Numpy array. The values should be in the range of 0 to 1, inclusive.  The return object should be the same shape as `x`."
   ]
  },
  {
   "cell_type": "code",
   "execution_count": 27,
   "metadata": {
    "collapsed": false
   },
   "outputs": [
    {
     "name": "stdout",
     "output_type": "stream",
     "text": [
      "Tests Passed\n"
     ]
    }
   ],
   "source": [
    "def normalize(x):\n",
    "    \"\"\"\n",
    "    Normalize a list of sample image data in the range of 0 to 1\n",
    "    : x: List of image data.  The image shape is (32, 32, 3)\n",
    "    : return: Numpy array of normalize data\n",
    "    \"\"\"\n",
    "    # TODO: Implement Function    \n",
    "    return np.array(x / 255)\n",
    "\n",
    "\"\"\"\n",
    "DON'T MODIFY ANYTHING IN THIS CELL THAT IS BELOW THIS LINE\n",
    "\"\"\"\n",
    "tests.test_normalize(normalize)"
   ]
  },
  {
   "cell_type": "markdown",
   "metadata": {},
   "source": [
    "### One-hot encode\n",
    "Just like the previous code cell, you'll be implementing a function for preprocessing.  This time, you'll implement the `one_hot_encode` function. The input, `x`, are a list of labels.  Implement the function to return the list of labels as One-Hot encoded Numpy array.  The possible values for labels are 0 to 9. The one-hot encoding function should return the same encoding for each value between each call to `one_hot_encode`.  Make sure to save the map of encodings outside the function.\n",
    "\n",
    "**Hint:**\n",
    "\n",
    "Look into LabelBinarizer in the preprocessing module of sklearn."
   ]
  },
  {
   "cell_type": "code",
   "execution_count": 28,
   "metadata": {
    "collapsed": false
   },
   "outputs": [
    {
     "name": "stdout",
     "output_type": "stream",
     "text": [
      "Tests Passed\n"
     ]
    }
   ],
   "source": [
    "def one_hot_encode(x):\n",
    "    \"\"\"\n",
    "    One hot encode a list of sample labels. Return a one-hot encoded vector for each label.\n",
    "    : x: List of sample Labels\n",
    "    : return: Numpy array of one-hot encoded labels\n",
    "    \"\"\"\n",
    "    # TODO: Implement Function\n",
    "    return np.eye(10)[x]\n",
    "\n",
    "\n",
    "\"\"\"\n",
    "DON'T MODIFY ANYTHING IN THIS CELL THAT IS BELOW THIS LINE\n",
    "\"\"\"\n",
    "tests.test_one_hot_encode(one_hot_encode)"
   ]
  },
  {
   "cell_type": "markdown",
   "metadata": {},
   "source": [
    "### Randomize Data\n",
    "As you saw from exploring the data above, the order of the samples are randomized.  It doesn't hurt to randomize it again, but you don't need to for this dataset."
   ]
  },
  {
   "cell_type": "markdown",
   "metadata": {},
   "source": [
    "## Preprocess all the data and save it\n",
    "Running the code cell below will preprocess all the CIFAR-10 data and save it to file. The code below also uses 10% of the training data for validation."
   ]
  },
  {
   "cell_type": "code",
   "execution_count": 29,
   "metadata": {
    "collapsed": false
   },
   "outputs": [],
   "source": [
    "\"\"\"\n",
    "DON'T MODIFY ANYTHING IN THIS CELL\n",
    "\"\"\"\n",
    "# Preprocess Training, Validation, and Testing Data\n",
    "helper.preprocess_and_save_data(cifar10_dataset_folder_path, normalize, one_hot_encode)"
   ]
  },
  {
   "cell_type": "markdown",
   "metadata": {},
   "source": [
    "# Check Point\n",
    "This is your first checkpoint.  If you ever decide to come back to this notebook or have to restart the notebook, you can start from here.  The preprocessed data has been saved to disk."
   ]
  },
  {
   "cell_type": "code",
   "execution_count": 30,
   "metadata": {
    "collapsed": true
   },
   "outputs": [],
   "source": [
    "\"\"\"\n",
    "DON'T MODIFY ANYTHING IN THIS CELL\n",
    "\"\"\"\n",
    "import pickle\n",
    "import problem_unittests as tests\n",
    "import helper\n",
    "\n",
    "# Load the Preprocessed Validation data\n",
    "valid_features, valid_labels = pickle.load(open('preprocess_validation.p', mode='rb'))"
   ]
  },
  {
   "cell_type": "markdown",
   "metadata": {},
   "source": [
    "## Build the network\n",
    "For the neural network, you'll build each layer into a function.  Most of the code you've seen has been outside of functions. To test your code more thoroughly, we require that you put each layer in a function.  This allows us to give you better feedback and test for simple mistakes using our unittests before you submit your project.\n",
    "\n",
    ">**Note:** If you're finding it hard to dedicate enough time for this course each week, we've provided a small shortcut to this part of the project. In the next couple of problems, you'll have the option to use classes from the [TensorFlow Layers](https://www.tensorflow.org/api_docs/python/tf/layers) or [TensorFlow Layers (contrib)](https://www.tensorflow.org/api_guides/python/contrib.layers) packages to build each layer, except the layers you build in the \"Convolutional and Max Pooling Layer\" section.  TF Layers is similar to Keras's and TFLearn's abstraction to layers, so it's easy to pickup.\n",
    "\n",
    ">However, if you would like to get the most out of this course, try to solve all the problems _without_ using anything from the TF Layers packages. You **can** still use classes from other packages that happen to have the same name as ones you find in TF Layers! For example, instead of using the TF Layers version of the `conv2d` class, [tf.layers.conv2d](https://www.tensorflow.org/api_docs/python/tf/layers/conv2d), you would want to use the TF Neural Network version of `conv2d`, [tf.nn.conv2d](https://www.tensorflow.org/api_docs/python/tf/nn/conv2d). \n",
    "\n",
    "Let's begin!\n",
    "\n",
    "### Input\n",
    "The neural network needs to read the image data, one-hot encoded labels, and dropout keep probability. Implement the following functions\n",
    "* Implement `neural_net_image_input`\n",
    " * Return a [TF Placeholder](https://www.tensorflow.org/api_docs/python/tf/placeholder)\n",
    " * Set the shape using `image_shape` with batch size set to `None`.\n",
    " * Name the TensorFlow placeholder \"x\" using the TensorFlow `name` parameter in the [TF Placeholder](https://www.tensorflow.org/api_docs/python/tf/placeholder).\n",
    "* Implement `neural_net_label_input`\n",
    " * Return a [TF Placeholder](https://www.tensorflow.org/api_docs/python/tf/placeholder)\n",
    " * Set the shape using `n_classes` with batch size set to `None`.\n",
    " * Name the TensorFlow placeholder \"y\" using the TensorFlow `name` parameter in the [TF Placeholder](https://www.tensorflow.org/api_docs/python/tf/placeholder).\n",
    "* Implement `neural_net_keep_prob_input`\n",
    " * Return a [TF Placeholder](https://www.tensorflow.org/api_docs/python/tf/placeholder) for dropout keep probability.\n",
    " * Name the TensorFlow placeholder \"keep_prob\" using the TensorFlow `name` parameter in the [TF Placeholder](https://www.tensorflow.org/api_docs/python/tf/placeholder).\n",
    "\n",
    "These names will be used at the end of the project to load your saved model.\n",
    "\n",
    "Note: `None` for shapes in TensorFlow allow for a dynamic size."
   ]
  },
  {
   "cell_type": "code",
   "execution_count": 32,
   "metadata": {
    "collapsed": false
   },
   "outputs": [
    {
     "name": "stdout",
     "output_type": "stream",
     "text": [
      "Image Input Tests Passed.\n",
      "Label Input Tests Passed.\n",
      "Keep Prob Tests Passed.\n"
     ]
    }
   ],
   "source": [
    "import tensorflow as tf\n",
    "\n",
    "def neural_net_image_input(image_shape):\n",
    "    \"\"\"\n",
    "    Return a Tensor for a batch of image input\n",
    "    : image_shape: Shape of the images\n",
    "    : return: Tensor for image input.\n",
    "    \"\"\"\n",
    "    # TODO: Implement Function\n",
    "    return tf.placeholder(tf.float32, shape = (None, image_shape[0], image_shape[1], image_shape[2]), name = 'x')\n",
    "\n",
    "\n",
    "def neural_net_label_input(n_classes):\n",
    "    \"\"\"\n",
    "    Return a Tensor for a batch of label input\n",
    "    : n_classes: Number of classes\n",
    "    : return: Tensor for label input.\n",
    "    \"\"\"\n",
    "    # TODO: Implement Function\n",
    "    return tf.placeholder(tf.float32, shape = (None, n_classes), name = 'y')\n",
    "\n",
    "\n",
    "def neural_net_keep_prob_input():\n",
    "    \"\"\"\n",
    "    Return a Tensor for keep probability\n",
    "    : return: Tensor for keep probability.\n",
    "    \"\"\"\n",
    "    # TODO: Implement Function\n",
    "    return tf.placeholder(tf.float32, name = 'keep_prob')\n",
    "\n",
    "\n",
    "\"\"\"\n",
    "DON'T MODIFY ANYTHING IN THIS CELL THAT IS BELOW THIS LINE\n",
    "\"\"\"\n",
    "tf.reset_default_graph()\n",
    "tests.test_nn_image_inputs(neural_net_image_input)\n",
    "tests.test_nn_label_inputs(neural_net_label_input)\n",
    "tests.test_nn_keep_prob_inputs(neural_net_keep_prob_input)"
   ]
  },
  {
   "cell_type": "markdown",
   "metadata": {},
   "source": [
    "### Convolution and Max Pooling Layer\n",
    "Convolution layers have a lot of success with images. For this code cell, you should implement the function `conv2d_maxpool` to apply convolution then max pooling:\n",
    "* Create the weight and bias using `conv_ksize`, `conv_num_outputs` and the shape of `x_tensor`.\n",
    "* Apply a convolution to `x_tensor` using weight and `conv_strides`.\n",
    " * We recommend you use same padding, but you're welcome to use any padding.\n",
    "* Add bias\n",
    "* Add a nonlinear activation to the convolution.\n",
    "* Apply Max Pooling using `pool_ksize` and `pool_strides`.\n",
    " * We recommend you use same padding, but you're welcome to use any padding.\n",
    "\n",
    "**Note:** You **can't** use [TensorFlow Layers](https://www.tensorflow.org/api_docs/python/tf/layers) or [TensorFlow Layers (contrib)](https://www.tensorflow.org/api_guides/python/contrib.layers) for **this** layer, but you can still use TensorFlow's [Neural Network](https://www.tensorflow.org/api_docs/python/tf/nn) package. You may still use the shortcut option for all the **other** layers.\n",
    "\n",
    "** Hint: **\n",
    "\n",
    "When unpacking values as an argument in Python, look into the [unpacking](https://docs.python.org/3/tutorial/controlflow.html#unpacking-argument-lists) operator. "
   ]
  },
  {
   "cell_type": "code",
   "execution_count": 38,
   "metadata": {
    "collapsed": false
   },
   "outputs": [
    {
     "name": "stdout",
     "output_type": "stream",
     "text": [
      "Tests Passed\n"
     ]
    }
   ],
   "source": [
    "def conv2d_maxpool(x_tensor, conv_num_outputs, conv_ksize, conv_strides, pool_ksize, pool_strides):\n",
    "    \"\"\"\n",
    "    Apply convolution then max pooling to x_tensor\n",
    "    :param x_tensor: TensorFlow Tensor\n",
    "    :param conv_num_outputs: Number of outputs for the convolutional layer\n",
    "    :param conv_ksize: kernal size 2-D Tuple for the convolutional layer\n",
    "    :param conv_strides: Stride 2-D Tuple for convolution\n",
    "    :param pool_ksize: kernal size 2-D Tuple for pool\n",
    "    :param pool_strides: Stride 2-D Tuple for pool\n",
    "    : return: A tensor that represents convolution and max pooling of x_tensor\n",
    "    \"\"\"\n",
    "    # TODO: Implement Function\n",
    "    \n",
    "    conv_ksize = [1, conv_ksize[0], conv_ksize[1], 1]\n",
    "    \n",
    "    conv_num_inputs = x_tensor.get_shape().as_list()[3]\n",
    "    \n",
    "    conv_weight = tf.Variable(tf.truncated_normal([conv_ksize[0], conv_ksize[1], conv_num_inputs, conv_num_outputs], stddev=0.1))\n",
    "    \n",
    "    conv_bias = tf.Variable(tf.zeros(conv_num_outputs))\n",
    "    \n",
    "    strides = [1, conv_strides[0],conv_strides[1],1]\n",
    "    \n",
    "    conv = tf.nn.conv2d(x_tensor, conv_weight, strides=strides,padding='SAME') + conv_bias\n",
    "    \n",
    "    # Non-Linear ReLU Activation function\n",
    "    conv = tf.nn.relu(conv)\n",
    "    \n",
    "    pool_ksize = [1, pool_ksize[0], pool_ksize[1], 1]\n",
    "                  \n",
    "    pool_strides = [1, pool_strides[0], pool_strides[1], 1]\n",
    "                  \n",
    "    max_pooling_conv = tf.nn.max_pool(conv, ksize=pool_ksize,strides=pool_strides,padding='SAME')\n",
    "                  \n",
    "    return max_pooling_conv\n",
    "\n",
    "\n",
    "\"\"\"\n",
    "DON'T MODIFY ANYTHING IN THIS CELL THAT IS BELOW THIS LINE\n",
    "\"\"\"\n",
    "tests.test_con_pool(conv2d_maxpool)"
   ]
  },
  {
   "cell_type": "markdown",
   "metadata": {},
   "source": [
    "### Flatten Layer\n",
    "Implement the `flatten` function to change the dimension of `x_tensor` from a 4-D tensor to a 2-D tensor.  The output should be the shape (*Batch Size*, *Flattened Image Size*). Shortcut option: you can use classes from the [TensorFlow Layers](https://www.tensorflow.org/api_docs/python/tf/layers) or [TensorFlow Layers (contrib)](https://www.tensorflow.org/api_guides/python/contrib.layers) packages for this layer. For more of a challenge, only use other TensorFlow packages."
   ]
  },
  {
   "cell_type": "code",
   "execution_count": 39,
   "metadata": {
    "collapsed": false
   },
   "outputs": [
    {
     "name": "stdout",
     "output_type": "stream",
     "text": [
      "Tests Passed\n"
     ]
    }
   ],
   "source": [
    "def flatten(x_tensor):\n",
    "    \"\"\"\n",
    "    Flatten x_tensor to (Batch Size, Flattened Image Size)\n",
    "    : x_tensor: A tensor of size (Batch Size, ...), where ... are the image dimensions.\n",
    "    : return: A tensor of size (Batch Size, Flattened Image Size).\n",
    "    \"\"\"\n",
    "    # TODO: Implement Function\n",
    "    return tf.contrib.layers.flatten(x_tensor)\n",
    "\n",
    "\n",
    "\"\"\"\n",
    "DON'T MODIFY ANYTHING IN THIS CELL THAT IS BELOW THIS LINE\n",
    "\"\"\"\n",
    "tests.test_flatten(flatten)"
   ]
  },
  {
   "cell_type": "markdown",
   "metadata": {},
   "source": [
    "### Fully-Connected Layer\n",
    "Implement the `fully_conn` function to apply a fully connected layer to `x_tensor` with the shape (*Batch Size*, *num_outputs*). Shortcut option: you can use classes from the [TensorFlow Layers](https://www.tensorflow.org/api_docs/python/tf/layers) or [TensorFlow Layers (contrib)](https://www.tensorflow.org/api_guides/python/contrib.layers) packages for this layer. For more of a challenge, only use other TensorFlow packages."
   ]
  },
  {
   "cell_type": "code",
   "execution_count": 40,
   "metadata": {
    "collapsed": false
   },
   "outputs": [
    {
     "name": "stdout",
     "output_type": "stream",
     "text": [
      "Tests Passed\n"
     ]
    }
   ],
   "source": [
    "def fully_conn(x_tensor, num_outputs):\n",
    "    \"\"\"\n",
    "    Apply a fully connected layer to x_tensor using weight and bias\n",
    "    : x_tensor: A 2-D tensor where the first dimension is batch size.\n",
    "    : num_outputs: The number of output that the new tensor should be.\n",
    "    : return: A 2-D tensor where the second dimension is num_outputs.\n",
    "    \"\"\"\n",
    "    # TODO: Implement Function\n",
    "    \n",
    "    width = x_tensor.get_shape().as_list()[1]\n",
    "    \n",
    "    weight = tf.Variable(tf.truncated_normal(([width, num_outputs]), stddev=0.1))\n",
    "    \n",
    "    bias = tf.Variable(tf.zeros(num_outputs))\n",
    "    \n",
    "    # Linear function as 'mx + b'\n",
    "    output = tf.add(tf.matmul(x_tensor, weight), bias)\n",
    "    \n",
    "    #applying ReLU func\n",
    "    return tf.nn.relu(output)\n",
    "\n",
    "\n",
    "\"\"\"\n",
    "DON'T MODIFY ANYTHING IN THIS CELL THAT IS BELOW THIS LINE\n",
    "\"\"\"\n",
    "tests.test_fully_conn(fully_conn)"
   ]
  },
  {
   "cell_type": "markdown",
   "metadata": {},
   "source": [
    "### Output Layer\n",
    "Implement the `output` function to apply a fully connected layer to `x_tensor` with the shape (*Batch Size*, *num_outputs*). Shortcut option: you can use classes from the [TensorFlow Layers](https://www.tensorflow.org/api_docs/python/tf/layers) or [TensorFlow Layers (contrib)](https://www.tensorflow.org/api_guides/python/contrib.layers) packages for this layer. For more of a challenge, only use other TensorFlow packages.\n",
    "\n",
    "**Note:** Activation, softmax, or cross entropy should **not** be applied to this."
   ]
  },
  {
   "cell_type": "code",
   "execution_count": 41,
   "metadata": {
    "collapsed": false
   },
   "outputs": [
    {
     "name": "stdout",
     "output_type": "stream",
     "text": [
      "Tests Passed\n"
     ]
    }
   ],
   "source": [
    "def output(x_tensor, num_outputs):\n",
    "    \"\"\"\n",
    "    Apply a output layer to x_tensor using weight and bias\n",
    "    : x_tensor: A 2-D tensor where the first dimension is batch size.\n",
    "    : num_outputs: The number of output that the new tensor should be.\n",
    "    : return: A 2-D tensor where the second dimension is num_outputs.\n",
    "    \"\"\"\n",
    "    # TODO: Implement Function\n",
    "    width = x_tensor.get_shape().as_list()[1]\n",
    "    \n",
    "    weight = tf.Variable(tf.truncated_normal([width, num_outputs], stddev=0.1))\n",
    "    \n",
    "    bias = tf.Variable(tf.zeros(num_outputs))\n",
    "    \n",
    "    output = tf.nn.bias_add(tf.matmul(x_tensor,weight), bias)\n",
    "    \n",
    "    return output\n",
    "\n",
    "\n",
    "\"\"\"\n",
    "DON'T MODIFY ANYTHING IN THIS CELL THAT IS BELOW THIS LINE\n",
    "\"\"\"\n",
    "tests.test_output(output)"
   ]
  },
  {
   "cell_type": "markdown",
   "metadata": {},
   "source": [
    "### Create Convolutional Model\n",
    "Implement the function `conv_net` to create a convolutional neural network model. The function takes in a batch of images, `x`, and outputs logits.  Use the layers you created above to create this model:\n",
    "\n",
    "* Apply 1, 2, or 3 Convolution and Max Pool layers\n",
    "* Apply a Flatten Layer\n",
    "* Apply 1, 2, or 3 Fully Connected Layers\n",
    "* Apply an Output Layer\n",
    "* Return the output\n",
    "* Apply [TensorFlow's Dropout](https://www.tensorflow.org/api_docs/python/tf/nn/dropout) to one or more layers in the model using `keep_prob`. "
   ]
  },
  {
   "cell_type": "code",
   "execution_count": 42,
   "metadata": {
    "collapsed": false
   },
   "outputs": [
    {
     "name": "stdout",
     "output_type": "stream",
     "text": [
      "WARNING:tensorflow:From <ipython-input-42-76412fbb1c7b>:72: softmax_cross_entropy_with_logits (from tensorflow.python.ops.nn_ops) is deprecated and will be removed in a future version.\n",
      "Instructions for updating:\n",
      "\n",
      "Future major versions of TensorFlow will allow gradients to flow\n",
      "into the labels input on backprop by default.\n",
      "\n",
      "See @{tf.nn.softmax_cross_entropy_with_logits_v2}.\n",
      "\n",
      "Neural Network Built!\n"
     ]
    }
   ],
   "source": [
    "def conv_net(x, keep_prob):\n",
    "    \"\"\"\n",
    "    Create a convolutional neural network model\n",
    "    : x: Placeholder tensor that holds image data.\n",
    "    : keep_prob: Placeholder tensor that hold dropout keep probability.\n",
    "    : return: Tensor that represents logits\n",
    "    \"\"\"\n",
    "    \n",
    "    # TODO: Apply 1, 2, or 3 Convolution and Max Pool layers\n",
    "    #    Play around with different number of outputs, kernel size and stride\n",
    "    # Function Definition from Above:\n",
    "    #    conv2d_maxpool(x_tensor, conv_num_outputs, conv_ksize, conv_strides, pool_ksize, pool_strides)\n",
    "    conv_num_outputs_1 = 32\n",
    "    conv_num_outputs_2 = 64\n",
    "    conv_num_outputs_3 = 128\n",
    "    \n",
    "    conv_ksize = [3, 3]\n",
    "    conv_strides = [1, 1]\n",
    "    pool_ksize = [2, 2]\n",
    "    pool_strides = [2, 2]\n",
    "    \n",
    "    conv_layer_1 = conv2d_maxpool(x, conv_num_outputs_1, conv_ksize, conv_strides, pool_ksize, pool_strides)\n",
    "    conv_layer_2 = conv2d_maxpool(conv_layer_1, conv_num_outputs_2, conv_ksize, conv_strides, pool_ksize, pool_strides)\n",
    "    conv_layer_3 = conv2d_maxpool(conv_layer_2, conv_num_outputs_3, conv_ksize, conv_strides, pool_ksize, pool_strides)\n",
    "\n",
    "    # TODO: Apply a Flatten Layer\n",
    "    # Function Definition from Above:\n",
    "    #   flatten(x_tensor)\n",
    "    flatten_layer = flatten(conv_layer_3)\n",
    "\n",
    "    # TODO: Apply 1, 2, or 3 Fully Connected Layers\n",
    "    #    Play around with different number of outputs\n",
    "    # Function Definition from Above:\n",
    "    #   fully_conn(x_tensor, num_outputs)\n",
    "    fully_connected_layer_1 = fully_conn(flatten_layer, 100)\n",
    "    fully_dropout = tf.nn.dropout(fully_connected_layer_1, keep_prob)   \n",
    "    fully_connected_layer_2 = fully_conn(fully_dropout, 100)    \n",
    "    \n",
    "    # TODO: Apply an Output Layer\n",
    "    #    Set this to the number of classes\n",
    "    # Function Definition from Above:\n",
    "    #   output(x_tensor, num_outputs)\n",
    "    output_layer = output(fully_connected_layer_2, 10)\n",
    "    \n",
    "    # TODO: return output\n",
    "    return output_layer\n",
    "\n",
    "\n",
    "\"\"\"\n",
    "DON'T MODIFY ANYTHING IN THIS CELL THAT IS BELOW THIS LINE\n",
    "\"\"\"\n",
    "\n",
    "##############################\n",
    "## Build the Neural Network ##\n",
    "##############################\n",
    "\n",
    "# Remove previous weights, bias, inputs, etc..\n",
    "tf.reset_default_graph()\n",
    "\n",
    "# Inputs\n",
    "x = neural_net_image_input((32, 32, 3))\n",
    "y = neural_net_label_input(10)\n",
    "keep_prob = neural_net_keep_prob_input()\n",
    "\n",
    "# Model\n",
    "logits = conv_net(x, keep_prob)\n",
    "\n",
    "# Name logits Tensor, so that is can be loaded from disk after training\n",
    "logits = tf.identity(logits, name='logits')\n",
    "\n",
    "# Loss and Optimizer\n",
    "cost = tf.reduce_mean(tf.nn.softmax_cross_entropy_with_logits(logits=logits, labels=y))\n",
    "optimizer = tf.train.AdamOptimizer().minimize(cost)\n",
    "\n",
    "# Accuracy\n",
    "correct_pred = tf.equal(tf.argmax(logits, 1), tf.argmax(y, 1))\n",
    "accuracy = tf.reduce_mean(tf.cast(correct_pred, tf.float32), name='accuracy')\n",
    "\n",
    "tests.test_conv_net(conv_net)"
   ]
  },
  {
   "cell_type": "markdown",
   "metadata": {},
   "source": [
    "## Train the Neural Network\n",
    "### Single Optimization\n",
    "Implement the function `train_neural_network` to do a single optimization.  The optimization should use `optimizer` to optimize in `session` with a `feed_dict` of the following:\n",
    "* `x` for image input\n",
    "* `y` for labels\n",
    "* `keep_prob` for keep probability for dropout\n",
    "\n",
    "This function will be called for each batch, so `tf.global_variables_initializer()` has already been called.\n",
    "\n",
    "Note: Nothing needs to be returned. This function is only optimizing the neural network."
   ]
  },
  {
   "cell_type": "code",
   "execution_count": 43,
   "metadata": {
    "collapsed": false
   },
   "outputs": [
    {
     "name": "stdout",
     "output_type": "stream",
     "text": [
      "Tests Passed\n"
     ]
    }
   ],
   "source": [
    "def train_neural_network(session, optimizer, keep_probability, feature_batch, label_batch):\n",
    "    \"\"\"\n",
    "    Optimize the session on a batch of images and labels\n",
    "    : session: Current TensorFlow session\n",
    "    : optimizer: TensorFlow optimizer function\n",
    "    : keep_probability: keep probability\n",
    "    : feature_batch: Batch of Numpy image data\n",
    "    : label_batch: Batch of Numpy label data\n",
    "    \"\"\"\n",
    "    # TODO: Implement Function\n",
    "    session.run(optimizer, feed_dict={x: feature_batch, y:label_batch, keep_prob: keep_probability})\n",
    "\n",
    "\n",
    "\"\"\"\n",
    "DON'T MODIFY ANYTHING IN THIS CELL THAT IS BELOW THIS LINE\n",
    "\"\"\"\n",
    "tests.test_train_nn(train_neural_network)"
   ]
  },
  {
   "cell_type": "markdown",
   "metadata": {},
   "source": [
    "### Show Stats\n",
    "Implement the function `print_stats` to print loss and validation accuracy.  Use the global variables `valid_features` and `valid_labels` to calculate validation accuracy.  Use a keep probability of `1.0` to calculate the loss and validation accuracy."
   ]
  },
  {
   "cell_type": "code",
   "execution_count": 44,
   "metadata": {
    "collapsed": false
   },
   "outputs": [],
   "source": [
    "def print_stats(session, feature_batch, label_batch, cost, accuracy):\n",
    "    \"\"\"\n",
    "    Print information about loss and validation accuracy\n",
    "    : session: Current TensorFlow session\n",
    "    : feature_batch: Batch of Numpy image data\n",
    "    : label_batch: Batch of Numpy label data\n",
    "    : cost: TensorFlow cost function\n",
    "    : accuracy: TensorFlow accuracy function\n",
    "    \"\"\"\n",
    "    # TODO: Implement Function\n",
    "    loss = session.run(cost, feed_dict={x:feature_batch, y:label_batch, keep_prob: 1.0})\n",
    "    accuracy = session.run(accuracy, feed_dict={x: valid_features, y:valid_labels, keep_prob:1.0})\n",
    "    \n",
    "    print(' Loss : {} '.format(loss))\n",
    "    print(' Validation Accuracy : {} '.format(accuracy))"
   ]
  },
  {
   "cell_type": "markdown",
   "metadata": {},
   "source": [
    "### Hyperparameters\n",
    "Tune the following parameters:\n",
    "* Set `epochs` to the number of iterations until the network stops learning or start overfitting\n",
    "* Set `batch_size` to the highest number that your machine has memory for.  Most people set them to common sizes of memory:\n",
    " * 64\n",
    " * 128\n",
    " * 256\n",
    " * ...\n",
    "* Set `keep_probability` to the probability of keeping a node using dropout"
   ]
  },
  {
   "cell_type": "code",
   "execution_count": 54,
   "metadata": {
    "collapsed": true
   },
   "outputs": [],
   "source": [
    "# TODO: Tune Parameters\n",
    "epochs = 28\n",
    "batch_size = 128\n",
    "keep_probability = 0.8"
   ]
  },
  {
   "cell_type": "markdown",
   "metadata": {},
   "source": [
    "### Train on a Single CIFAR-10 Batch\n",
    "Instead of training the neural network on all the CIFAR-10 batches of data, let's use a single batch. This should save time while you iterate on the model to get a better accuracy.  Once the final validation accuracy is 50% or greater, run the model on all the data in the next section."
   ]
  },
  {
   "cell_type": "code",
   "execution_count": 55,
   "metadata": {
    "collapsed": false
   },
   "outputs": [
    {
     "name": "stdout",
     "output_type": "stream",
     "text": [
      "Checking the Training on a Single Batch...\n",
      "Epoch  1, CIFAR-10 Batch 1:   Loss : 2.1731960773468018 \n",
      " Validation Accuracy : 0.272599995136261 \n",
      "Epoch  2, CIFAR-10 Batch 1:   Loss : 1.9051799774169922 \n",
      " Validation Accuracy : 0.38679999113082886 \n",
      "Epoch  3, CIFAR-10 Batch 1:   Loss : 1.7167072296142578 \n",
      " Validation Accuracy : 0.4327999949455261 \n",
      "Epoch  4, CIFAR-10 Batch 1:   Loss : 1.5770580768585205 \n",
      " Validation Accuracy : 0.4544000029563904 \n",
      "Epoch  5, CIFAR-10 Batch 1:   Loss : 1.4603019952774048 \n",
      " Validation Accuracy : 0.47920000553131104 \n",
      "Epoch  6, CIFAR-10 Batch 1:   Loss : 1.343790888786316 \n",
      " Validation Accuracy : 0.49160000681877136 \n",
      "Epoch  7, CIFAR-10 Batch 1:   Loss : 1.2345607280731201 \n",
      " Validation Accuracy : 0.4968000054359436 \n",
      "Epoch  8, CIFAR-10 Batch 1:   Loss : 1.185920000076294 \n",
      " Validation Accuracy : 0.5113999843597412 \n",
      "Epoch  9, CIFAR-10 Batch 1:   Loss : 1.0911445617675781 \n",
      " Validation Accuracy : 0.5238000154495239 \n",
      "Epoch 10, CIFAR-10 Batch 1:   Loss : 1.0086787939071655 \n",
      " Validation Accuracy : 0.5281999707221985 \n",
      "Epoch 11, CIFAR-10 Batch 1:   Loss : 0.9574639201164246 \n",
      " Validation Accuracy : 0.5333999991416931 \n",
      "Epoch 12, CIFAR-10 Batch 1:   Loss : 0.8888431787490845 \n",
      " Validation Accuracy : 0.5361999869346619 \n",
      "Epoch 13, CIFAR-10 Batch 1:   Loss : 0.7946062088012695 \n",
      " Validation Accuracy : 0.5317999720573425 \n",
      "Epoch 14, CIFAR-10 Batch 1:   Loss : 0.801474928855896 \n",
      " Validation Accuracy : 0.5329999923706055 \n",
      "Epoch 15, CIFAR-10 Batch 1:   Loss : 0.7302771210670471 \n",
      " Validation Accuracy : 0.5407999753952026 \n",
      "Epoch 16, CIFAR-10 Batch 1:   Loss : 0.741141676902771 \n",
      " Validation Accuracy : 0.5454000234603882 \n",
      "Epoch 17, CIFAR-10 Batch 1:   Loss : 0.6580644845962524 \n",
      " Validation Accuracy : 0.5591999888420105 \n",
      "Epoch 18, CIFAR-10 Batch 1:   Loss : 0.6038010716438293 \n",
      " Validation Accuracy : 0.5491999983787537 \n",
      "Epoch 19, CIFAR-10 Batch 1:   Loss : 0.64264315366745 \n",
      " Validation Accuracy : 0.5432000160217285 \n",
      "Epoch 20, CIFAR-10 Batch 1:   Loss : 0.6326490640640259 \n",
      " Validation Accuracy : 0.5333999991416931 \n",
      "Epoch 21, CIFAR-10 Batch 1:   Loss : 0.5381803512573242 \n",
      " Validation Accuracy : 0.5673999786376953 \n",
      "Epoch 22, CIFAR-10 Batch 1:   Loss : 0.4551048278808594 \n",
      " Validation Accuracy : 0.5669999718666077 \n",
      "Epoch 23, CIFAR-10 Batch 1:   Loss : 0.43519067764282227 \n",
      " Validation Accuracy : 0.5705999732017517 \n",
      "Epoch 24, CIFAR-10 Batch 1:   Loss : 0.4567955434322357 \n",
      " Validation Accuracy : 0.5618000030517578 \n",
      "Epoch 25, CIFAR-10 Batch 1:   Loss : 0.3549707531929016 \n",
      " Validation Accuracy : 0.573199987411499 \n",
      "Epoch 26, CIFAR-10 Batch 1:   Loss : 0.38269296288490295 \n",
      " Validation Accuracy : 0.5559999942779541 \n",
      "Epoch 27, CIFAR-10 Batch 1:   Loss : 0.36826595664024353 \n",
      " Validation Accuracy : 0.567799985408783 \n",
      "Epoch 28, CIFAR-10 Batch 1:   Loss : 0.3165438175201416 \n",
      " Validation Accuracy : 0.5753999948501587 \n"
     ]
    }
   ],
   "source": [
    "\"\"\"\n",
    "DON'T MODIFY ANYTHING IN THIS CELL\n",
    "\"\"\"\n",
    "print('Checking the Training on a Single Batch...')\n",
    "with tf.Session() as sess:\n",
    "    # Initializing the variables\n",
    "    sess.run(tf.global_variables_initializer())\n",
    "    \n",
    "    # Training cycle\n",
    "    for epoch in range(epochs):\n",
    "        batch_i = 1\n",
    "        for batch_features, batch_labels in helper.load_preprocess_training_batch(batch_i, batch_size):\n",
    "            train_neural_network(sess, optimizer, keep_probability, batch_features, batch_labels)\n",
    "        print('Epoch {:>2}, CIFAR-10 Batch {}:  '.format(epoch + 1, batch_i), end='')\n",
    "        print_stats(sess, batch_features, batch_labels, cost, accuracy)"
   ]
  },
  {
   "cell_type": "markdown",
   "metadata": {},
   "source": [
    "### Fully Train the Model\n",
    "Now that you got a good accuracy with a single CIFAR-10 batch, try it with all five batches."
   ]
  },
  {
   "cell_type": "code",
   "execution_count": 56,
   "metadata": {
    "collapsed": false
   },
   "outputs": [
    {
     "name": "stdout",
     "output_type": "stream",
     "text": [
      "Training...\n",
      "Epoch  1, CIFAR-10 Batch 1:   Loss : 2.125359535217285 \n",
      " Validation Accuracy : 0.29319998621940613 \n",
      "Epoch  1, CIFAR-10 Batch 2:   Loss : 1.7823350429534912 \n",
      " Validation Accuracy : 0.362199991941452 \n",
      "Epoch  1, CIFAR-10 Batch 3:   Loss : 1.462512493133545 \n",
      " Validation Accuracy : 0.40860000252723694 \n",
      "Epoch  1, CIFAR-10 Batch 4:   Loss : 1.4692472219467163 \n",
      " Validation Accuracy : 0.4618000090122223 \n",
      "Epoch  1, CIFAR-10 Batch 5:   Loss : 1.651532530784607 \n",
      " Validation Accuracy : 0.4903999865055084 \n",
      "Epoch  2, CIFAR-10 Batch 1:   Loss : 1.558288812637329 \n",
      " Validation Accuracy : 0.49779999256134033 \n",
      "Epoch  2, CIFAR-10 Batch 2:   Loss : 1.3465051651000977 \n",
      " Validation Accuracy : 0.5001999735832214 \n",
      "Epoch  2, CIFAR-10 Batch 3:   Loss : 1.1696369647979736 \n",
      " Validation Accuracy : 0.5063999891281128 \n",
      "Epoch  2, CIFAR-10 Batch 4:   Loss : 1.1492862701416016 \n",
      " Validation Accuracy : 0.527999997138977 \n",
      "Epoch  2, CIFAR-10 Batch 5:   Loss : 1.4311292171478271 \n",
      " Validation Accuracy : 0.5364000201225281 \n",
      "Epoch  3, CIFAR-10 Batch 1:   Loss : 1.3093159198760986 \n",
      " Validation Accuracy : 0.5184000134468079 \n",
      "Epoch  3, CIFAR-10 Batch 2:   Loss : 1.1672910451889038 \n",
      " Validation Accuracy : 0.5586000084877014 \n",
      "Epoch  3, CIFAR-10 Batch 3:   Loss : 1.0129578113555908 \n",
      " Validation Accuracy : 0.5472000241279602 \n",
      "Epoch  3, CIFAR-10 Batch 4:   Loss : 0.9899303317070007 \n",
      " Validation Accuracy : 0.5667999982833862 \n",
      "Epoch  3, CIFAR-10 Batch 5:   Loss : 1.2946196794509888 \n",
      " Validation Accuracy : 0.5763999819755554 \n",
      "Epoch  4, CIFAR-10 Batch 1:   Loss : 1.1637060642242432 \n",
      " Validation Accuracy : 0.5767999887466431 \n",
      "Epoch  4, CIFAR-10 Batch 2:   Loss : 1.1149301528930664 \n",
      " Validation Accuracy : 0.5809999704360962 \n",
      "Epoch  4, CIFAR-10 Batch 3:   Loss : 0.9231979250907898 \n",
      " Validation Accuracy : 0.5806000232696533 \n",
      "Epoch  4, CIFAR-10 Batch 4:   Loss : 0.9234640002250671 \n",
      " Validation Accuracy : 0.5813999772071838 \n",
      "Epoch  4, CIFAR-10 Batch 5:   Loss : 1.1894073486328125 \n",
      " Validation Accuracy : 0.5983999967575073 \n",
      "Epoch  5, CIFAR-10 Batch 1:   Loss : 1.0862888097763062 \n",
      " Validation Accuracy : 0.5830000042915344 \n",
      "Epoch  5, CIFAR-10 Batch 2:   Loss : 1.080143690109253 \n",
      " Validation Accuracy : 0.6051999926567078 \n",
      "Epoch  5, CIFAR-10 Batch 3:   Loss : 0.9064424633979797 \n",
      " Validation Accuracy : 0.6028000116348267 \n",
      "Epoch  5, CIFAR-10 Batch 4:   Loss : 0.8132511973381042 \n",
      " Validation Accuracy : 0.6050000190734863 \n",
      "Epoch  5, CIFAR-10 Batch 5:   Loss : 1.005624771118164 \n",
      " Validation Accuracy : 0.6136000156402588 \n",
      "Epoch  6, CIFAR-10 Batch 1:   Loss : 1.0347930192947388 \n",
      " Validation Accuracy : 0.6078000068664551 \n",
      "Epoch  6, CIFAR-10 Batch 2:   Loss : 0.933885931968689 \n",
      " Validation Accuracy : 0.6159999966621399 \n",
      "Epoch  6, CIFAR-10 Batch 3:   Loss : 0.8069890141487122 \n",
      " Validation Accuracy : 0.6208000183105469 \n",
      "Epoch  6, CIFAR-10 Batch 4:   Loss : 0.7705752849578857 \n",
      " Validation Accuracy : 0.6144000291824341 \n",
      "Epoch  6, CIFAR-10 Batch 5:   Loss : 0.9353101849555969 \n",
      " Validation Accuracy : 0.625 \n",
      "Epoch  7, CIFAR-10 Batch 1:   Loss : 0.916256308555603 \n",
      " Validation Accuracy : 0.6100000143051147 \n",
      "Epoch  7, CIFAR-10 Batch 2:   Loss : 0.8747482299804688 \n",
      " Validation Accuracy : 0.6305999755859375 \n",
      "Epoch  7, CIFAR-10 Batch 3:   Loss : 0.721125602722168 \n",
      " Validation Accuracy : 0.628600001335144 \n",
      "Epoch  7, CIFAR-10 Batch 4:   Loss : 0.6755267977714539 \n",
      " Validation Accuracy : 0.6326000094413757 \n",
      "Epoch  7, CIFAR-10 Batch 5:   Loss : 0.8601709604263306 \n",
      " Validation Accuracy : 0.644599974155426 \n",
      "Epoch  8, CIFAR-10 Batch 1:   Loss : 0.9538383483886719 \n",
      " Validation Accuracy : 0.6186000108718872 \n",
      "Epoch  8, CIFAR-10 Batch 2:   Loss : 0.7322708368301392 \n",
      " Validation Accuracy : 0.6323999762535095 \n",
      "Epoch  8, CIFAR-10 Batch 3:   Loss : 0.6601663827896118 \n",
      " Validation Accuracy : 0.6453999876976013 \n",
      "Epoch  8, CIFAR-10 Batch 4:   Loss : 0.6310240030288696 \n",
      " Validation Accuracy : 0.6416000127792358 \n",
      "Epoch  8, CIFAR-10 Batch 5:   Loss : 0.768035888671875 \n",
      " Validation Accuracy : 0.6517999768257141 \n",
      "Epoch  9, CIFAR-10 Batch 1:   Loss : 0.8467532992362976 \n",
      " Validation Accuracy : 0.6140000224113464 \n",
      "Epoch  9, CIFAR-10 Batch 2:   Loss : 0.6773539781570435 \n",
      " Validation Accuracy : 0.6481999754905701 \n",
      "Epoch  9, CIFAR-10 Batch 3:   Loss : 0.5906332731246948 \n",
      " Validation Accuracy : 0.6603999733924866 \n",
      "Epoch  9, CIFAR-10 Batch 4:   Loss : 0.5812100172042847 \n",
      " Validation Accuracy : 0.6534000039100647 \n",
      "Epoch  9, CIFAR-10 Batch 5:   Loss : 0.7141571044921875 \n",
      " Validation Accuracy : 0.6565999984741211 \n",
      "Epoch 10, CIFAR-10 Batch 1:   Loss : 0.750305712223053 \n",
      " Validation Accuracy : 0.6245999932289124 \n",
      "Epoch 10, CIFAR-10 Batch 2:   Loss : 0.6755977869033813 \n",
      " Validation Accuracy : 0.6474000215530396 \n",
      "Epoch 10, CIFAR-10 Batch 3:   Loss : 0.5794642567634583 \n",
      " Validation Accuracy : 0.6588000059127808 \n",
      "Epoch 10, CIFAR-10 Batch 4:   Loss : 0.505644679069519 \n",
      " Validation Accuracy : 0.6588000059127808 \n",
      "Epoch 10, CIFAR-10 Batch 5:   Loss : 0.5871157646179199 \n",
      " Validation Accuracy : 0.6669999957084656 \n",
      "Epoch 11, CIFAR-10 Batch 1:   Loss : 0.7351096868515015 \n",
      " Validation Accuracy : 0.6341999769210815 \n",
      "Epoch 11, CIFAR-10 Batch 2:   Loss : 0.5737194418907166 \n",
      " Validation Accuracy : 0.6633999943733215 \n",
      "Epoch 11, CIFAR-10 Batch 3:   Loss : 0.4422302842140198 \n",
      " Validation Accuracy : 0.6679999828338623 \n",
      "Epoch 11, CIFAR-10 Batch 4:   Loss : 0.5173831582069397 \n",
      " Validation Accuracy : 0.650600016117096 \n",
      "Epoch 11, CIFAR-10 Batch 5:   Loss : 0.5758855938911438 \n",
      " Validation Accuracy : 0.6729999780654907 \n",
      "Epoch 12, CIFAR-10 Batch 1:   Loss : 0.6846243739128113 \n",
      " Validation Accuracy : 0.6398000121116638 \n",
      "Epoch 12, CIFAR-10 Batch 2:   Loss : 0.5336743593215942 \n",
      " Validation Accuracy : 0.6639999747276306 \n",
      "Epoch 12, CIFAR-10 Batch 3:   Loss : 0.44083356857299805 \n",
      " Validation Accuracy : 0.6624000072479248 \n",
      "Epoch 12, CIFAR-10 Batch 4:   Loss : 0.5018449425697327 \n",
      " Validation Accuracy : 0.65420001745224 \n",
      "Epoch 12, CIFAR-10 Batch 5:   Loss : 0.493621289730072 \n",
      " Validation Accuracy : 0.6668000221252441 \n",
      "Epoch 13, CIFAR-10 Batch 1:   Loss : 0.6142875552177429 \n",
      " Validation Accuracy : 0.6597999930381775 \n",
      "Epoch 13, CIFAR-10 Batch 2:   Loss : 0.503624439239502 \n",
      " Validation Accuracy : 0.6687999963760376 \n",
      "Epoch 13, CIFAR-10 Batch 3:   Loss : 0.41682958602905273 \n",
      " Validation Accuracy : 0.6489999890327454 \n",
      "Epoch 13, CIFAR-10 Batch 4:   Loss : 0.41584882140159607 \n",
      " Validation Accuracy : 0.6692000031471252 \n",
      "Epoch 13, CIFAR-10 Batch 5:   Loss : 0.4564801752567291 \n",
      " Validation Accuracy : 0.6732000112533569 \n",
      "Epoch 14, CIFAR-10 Batch 1:   Loss : 0.5576150417327881 \n",
      " Validation Accuracy : 0.6606000065803528 \n",
      "Epoch 14, CIFAR-10 Batch 2:   Loss : 0.4466690123081207 \n",
      " Validation Accuracy : 0.6700000166893005 \n",
      "Epoch 14, CIFAR-10 Batch 3:   Loss : 0.3337092399597168 \n",
      " Validation Accuracy : 0.6574000120162964 \n",
      "Epoch 14, CIFAR-10 Batch 4:   Loss : 0.4280565679073334 \n",
      " Validation Accuracy : 0.6614000201225281 \n",
      "Epoch 14, CIFAR-10 Batch 5:   Loss : 0.45068293809890747 \n",
      " Validation Accuracy : 0.6732000112533569 \n",
      "Epoch 15, CIFAR-10 Batch 1:   Loss : 0.5228210687637329 \n",
      " Validation Accuracy : 0.6759999990463257 \n",
      "Epoch 15, CIFAR-10 Batch 2:   Loss : 0.3769485354423523 \n",
      " Validation Accuracy : 0.6751999855041504 \n",
      "Epoch 15, CIFAR-10 Batch 3:   Loss : 0.3010505735874176 \n",
      " Validation Accuracy : 0.6664000153541565 \n",
      "Epoch 15, CIFAR-10 Batch 4:   Loss : 0.42848262190818787 \n",
      " Validation Accuracy : 0.6615999937057495 \n",
      "Epoch 15, CIFAR-10 Batch 5:   Loss : 0.39156574010849 \n",
      " Validation Accuracy : 0.6651999950408936 \n",
      "Epoch 16, CIFAR-10 Batch 1:   Loss : 0.5521373748779297 \n",
      " Validation Accuracy : 0.6660000085830688 \n",
      "Epoch 16, CIFAR-10 Batch 2:   Loss : 0.3537135720252991 \n",
      " Validation Accuracy : 0.6664000153541565 \n",
      "Epoch 16, CIFAR-10 Batch 3:   Loss : 0.25457215309143066 \n",
      " Validation Accuracy : 0.6614000201225281 \n",
      "Epoch 16, CIFAR-10 Batch 4:   Loss : 0.376552939414978 \n",
      " Validation Accuracy : 0.6621999740600586 \n",
      "Epoch 16, CIFAR-10 Batch 5:   Loss : 0.35755911469459534 \n",
      " Validation Accuracy : 0.6672000288963318 \n",
      "Epoch 17, CIFAR-10 Batch 1:   Loss : 0.5078297257423401 \n",
      " Validation Accuracy : 0.6679999828338623 \n",
      "Epoch 17, CIFAR-10 Batch 2:   Loss : 0.2613014578819275 \n",
      " Validation Accuracy : 0.6794000267982483 \n",
      "Epoch 17, CIFAR-10 Batch 3:   Loss : 0.2697370946407318 \n",
      " Validation Accuracy : 0.657800018787384 \n",
      "Epoch 17, CIFAR-10 Batch 4:   Loss : 0.3515799343585968 \n",
      " Validation Accuracy : 0.6525999903678894 \n",
      "Epoch 17, CIFAR-10 Batch 5:   Loss : 0.3326485753059387 \n",
      " Validation Accuracy : 0.6624000072479248 \n",
      "Epoch 18, CIFAR-10 Batch 1:   Loss : 0.4632822871208191 \n",
      " Validation Accuracy : 0.6678000092506409 \n",
      "Epoch 18, CIFAR-10 Batch 2:   Loss : 0.23174604773521423 \n",
      " Validation Accuracy : 0.6787999868392944 \n",
      "Epoch 18, CIFAR-10 Batch 3:   Loss : 0.20907409489154816 \n",
      " Validation Accuracy : 0.6675999760627747 \n",
      "Epoch 18, CIFAR-10 Batch 4:   Loss : 0.3169816732406616 \n",
      " Validation Accuracy : 0.6579999923706055 \n",
      "Epoch 18, CIFAR-10 Batch 5:   Loss : 0.3180147707462311 \n",
      " Validation Accuracy : 0.659600019454956 \n",
      "Epoch 19, CIFAR-10 Batch 1:   Loss : 0.40046364068984985 \n",
      " Validation Accuracy : 0.6690000295639038 \n",
      "Epoch 19, CIFAR-10 Batch 2:   Loss : 0.20303082466125488 \n",
      " Validation Accuracy : 0.6769999861717224 \n",
      "Epoch 19, CIFAR-10 Batch 3:   Loss : 0.2085159718990326 \n",
      " Validation Accuracy : 0.6678000092506409 \n",
      "Epoch 19, CIFAR-10 Batch 4:   Loss : 0.2990572452545166 \n",
      " Validation Accuracy : 0.6614000201225281 \n",
      "Epoch 19, CIFAR-10 Batch 5:   Loss : 0.2816433012485504 \n",
      " Validation Accuracy : 0.6714000105857849 \n",
      "Epoch 20, CIFAR-10 Batch 1:   Loss : 0.3688454031944275 \n",
      " Validation Accuracy : 0.6764000058174133 \n",
      "Epoch 20, CIFAR-10 Batch 2:   Loss : 0.1948743313550949 \n",
      " Validation Accuracy : 0.6776000261306763 \n",
      "Epoch 20, CIFAR-10 Batch 3:   Loss : 0.15942049026489258 \n",
      " Validation Accuracy : 0.6690000295639038 \n",
      "Epoch 20, CIFAR-10 Batch 4:   Loss : 0.3242141604423523 \n",
      " Validation Accuracy : 0.6521999835968018 \n",
      "Epoch 20, CIFAR-10 Batch 5:   Loss : 0.21510902047157288 \n",
      " Validation Accuracy : 0.6651999950408936 \n",
      "Epoch 21, CIFAR-10 Batch 1:   Loss : 0.3875746428966522 \n",
      " Validation Accuracy : 0.6718000173568726 \n",
      "Epoch 21, CIFAR-10 Batch 2:   Loss : 0.22759823501110077 \n",
      " Validation Accuracy : 0.6787999868392944 \n",
      "Epoch 21, CIFAR-10 Batch 3:   Loss : 0.17836657166481018 \n",
      " Validation Accuracy : 0.6615999937057495 \n",
      "Epoch 21, CIFAR-10 Batch 4:   Loss : 0.2768300175666809 \n",
      " Validation Accuracy : 0.6588000059127808 \n",
      "Epoch 21, CIFAR-10 Batch 5:   Loss : 0.2384917289018631 \n",
      " Validation Accuracy : 0.6686000227928162 \n",
      "Epoch 22, CIFAR-10 Batch 1:   Loss : 0.30663105845451355 \n",
      " Validation Accuracy : 0.6686000227928162 \n",
      "Epoch 22, CIFAR-10 Batch 2:   Loss : 0.16183069348335266 \n",
      " Validation Accuracy : 0.6818000078201294 \n",
      "Epoch 22, CIFAR-10 Batch 3:   Loss : 0.1391008198261261 \n",
      " Validation Accuracy : 0.6682000160217285 \n",
      "Epoch 22, CIFAR-10 Batch 4:   Loss : 0.24316105246543884 \n",
      " Validation Accuracy : 0.6633999943733215 \n",
      "Epoch 22, CIFAR-10 Batch 5:   Loss : 0.179301455616951 \n",
      " Validation Accuracy : 0.6632000207901001 \n",
      "Epoch 23, CIFAR-10 Batch 1:   Loss : 0.33503836393356323 \n",
      " Validation Accuracy : 0.6651999950408936 \n",
      "Epoch 23, CIFAR-10 Batch 2:   Loss : 0.1622033566236496 \n",
      " Validation Accuracy : 0.6710000038146973 \n",
      "Epoch 23, CIFAR-10 Batch 3:   Loss : 0.15456819534301758 \n",
      " Validation Accuracy : 0.6705999970436096 \n",
      "Epoch 23, CIFAR-10 Batch 4:   Loss : 0.24854636192321777 \n",
      " Validation Accuracy : 0.6528000235557556 \n",
      "Epoch 23, CIFAR-10 Batch 5:   Loss : 0.19095143675804138 \n",
      " Validation Accuracy : 0.6603999733924866 \n",
      "Epoch 24, CIFAR-10 Batch 1:   Loss : 0.28087571263313293 \n",
      " Validation Accuracy : 0.6736000180244446 \n",
      "Epoch 24, CIFAR-10 Batch 2:   Loss : 0.15690913796424866 \n",
      " Validation Accuracy : 0.6741999983787537 \n",
      "Epoch 24, CIFAR-10 Batch 3:   Loss : 0.1389915496110916 \n",
      " Validation Accuracy : 0.6651999950408936 \n",
      "Epoch 24, CIFAR-10 Batch 4:   Loss : 0.27610525488853455 \n",
      " Validation Accuracy : 0.649399995803833 \n",
      "Epoch 24, CIFAR-10 Batch 5:   Loss : 0.14344915747642517 \n",
      " Validation Accuracy : 0.6723999977111816 \n",
      "Epoch 25, CIFAR-10 Batch 1:   Loss : 0.29021155834198 \n",
      " Validation Accuracy : 0.6690000295639038 \n",
      "Epoch 25, CIFAR-10 Batch 2:   Loss : 0.17206737399101257 \n",
      " Validation Accuracy : 0.6743999719619751 \n",
      "Epoch 25, CIFAR-10 Batch 3:   Loss : 0.1337168663740158 \n",
      " Validation Accuracy : 0.6633999943733215 \n",
      "Epoch 25, CIFAR-10 Batch 4:   Loss : 0.229792982339859 \n",
      " Validation Accuracy : 0.657800018787384 \n",
      "Epoch 25, CIFAR-10 Batch 5:   Loss : 0.1433403193950653 \n",
      " Validation Accuracy : 0.6654000282287598 \n",
      "Epoch 26, CIFAR-10 Batch 1:   Loss : 0.27357974648475647 \n",
      " Validation Accuracy : 0.6561999917030334 \n",
      "Epoch 26, CIFAR-10 Batch 2:   Loss : 0.14314934611320496 \n",
      " Validation Accuracy : 0.6714000105857849 \n",
      "Epoch 26, CIFAR-10 Batch 3:   Loss : 0.1141863688826561 \n",
      " Validation Accuracy : 0.66839998960495 \n",
      "Epoch 26, CIFAR-10 Batch 4:   Loss : 0.1979515254497528 \n",
      " Validation Accuracy : 0.6420000195503235 \n",
      "Epoch 26, CIFAR-10 Batch 5:   Loss : 0.13259568810462952 \n",
      " Validation Accuracy : 0.6665999889373779 \n",
      "Epoch 27, CIFAR-10 Batch 1:   Loss : 0.27005571126937866 \n",
      " Validation Accuracy : 0.657800018787384 \n",
      "Epoch 27, CIFAR-10 Batch 2:   Loss : 0.11866804212331772 \n",
      " Validation Accuracy : 0.6593999862670898 \n",
      "Epoch 27, CIFAR-10 Batch 3:   Loss : 0.08607332408428192 \n",
      " Validation Accuracy : 0.6643999814987183 \n",
      "Epoch 27, CIFAR-10 Batch 4:   Loss : 0.17308680713176727 \n",
      " Validation Accuracy : 0.6510000228881836 \n",
      "Epoch 27, CIFAR-10 Batch 5:   Loss : 0.1624850034713745 \n",
      " Validation Accuracy : 0.6679999828338623 \n",
      "Epoch 28, CIFAR-10 Batch 1:   Loss : 0.22021350264549255 \n",
      " Validation Accuracy : 0.6651999950408936 \n",
      "Epoch 28, CIFAR-10 Batch 2:   Loss : 0.10310077667236328 \n",
      " Validation Accuracy : 0.6661999821662903 \n",
      "Epoch 28, CIFAR-10 Batch 3:   Loss : 0.1066620722413063 \n",
      " Validation Accuracy : 0.6624000072479248 \n",
      "Epoch 28, CIFAR-10 Batch 4:   Loss : 0.1977771669626236 \n",
      " Validation Accuracy : 0.6291999816894531 \n",
      "Epoch 28, CIFAR-10 Batch 5:   Loss : 0.143883615732193 \n",
      " Validation Accuracy : 0.6624000072479248 \n"
     ]
    }
   ],
   "source": [
    "\"\"\"\n",
    "DON'T MODIFY ANYTHING IN THIS CELL\n",
    "\"\"\"\n",
    "save_model_path = './image_classification'\n",
    "\n",
    "print('Training...')\n",
    "with tf.Session() as sess:\n",
    "    # Initializing the variables\n",
    "    sess.run(tf.global_variables_initializer())\n",
    "    \n",
    "    # Training cycle\n",
    "    for epoch in range(epochs):\n",
    "        # Loop over all batches\n",
    "        n_batches = 5\n",
    "        for batch_i in range(1, n_batches + 1):\n",
    "            for batch_features, batch_labels in helper.load_preprocess_training_batch(batch_i, batch_size):\n",
    "                train_neural_network(sess, optimizer, keep_probability, batch_features, batch_labels)\n",
    "            print('Epoch {:>2}, CIFAR-10 Batch {}:  '.format(epoch + 1, batch_i), end='')\n",
    "            print_stats(sess, batch_features, batch_labels, cost, accuracy)\n",
    "            \n",
    "    # Save Model\n",
    "    saver = tf.train.Saver()\n",
    "    save_path = saver.save(sess, save_model_path)"
   ]
  },
  {
   "cell_type": "markdown",
   "metadata": {},
   "source": [
    "# Checkpoint\n",
    "The model has been saved to disk.\n",
    "## Test Model\n",
    "Test your model against the test dataset.  This will be your final accuracy. You should have an accuracy greater than 50%. If you don't, keep tweaking the model architecture and parameters."
   ]
  },
  {
   "cell_type": "code",
   "execution_count": 57,
   "metadata": {
    "collapsed": false
   },
   "outputs": [
    {
     "name": "stdout",
     "output_type": "stream",
     "text": [
      "INFO:tensorflow:Restoring parameters from ./image_classification\n",
      "Testing Accuracy: 0.6673259493670886\n",
      "\n"
     ]
    },
    {
     "data": {
      "image/png": "[encoded data removed]",
      "text/plain": [
       "<Figure size 432x288 with 8 Axes>"
      ]
     },
     "metadata": {
      "image/png": {
       "height": 319,
       "width": 355
      }
     },
     "output_type": "display_data"
    }
   ],
   "source": [
    "\"\"\"\n",
    "DON'T MODIFY ANYTHING IN THIS CELL\n",
    "\"\"\"\n",
    "%matplotlib inline\n",
    "%config InlineBackend.figure_format = 'retina'\n",
    "\n",
    "import tensorflow as tf\n",
    "import pickle\n",
    "import helper\n",
    "import random\n",
    "\n",
    "# Set batch size if not already set\n",
    "try:\n",
    "    if batch_size:\n",
    "        pass\n",
    "except NameError:\n",
    "    batch_size = 64\n",
    "\n",
    "save_model_path = './image_classification'\n",
    "n_samples = 4\n",
    "top_n_predictions = 3\n",
    "\n",
    "def test_model():\n",
    "    \"\"\"\n",
    "    Test the saved model against the test dataset\n",
    "    \"\"\"\n",
    "\n",
    "    test_features, test_labels = pickle.load(open('preprocess_training.p', mode='rb'))\n",
    "    loaded_graph = tf.Graph()\n",
    "\n",
    "    with tf.Session(graph=loaded_graph) as sess:\n",
    "        # Load model\n",
    "        loader = tf.train.import_meta_graph(save_model_path + '.meta')\n",
    "        loader.restore(sess, save_model_path)\n",
    "\n",
    "        # Get Tensors from loaded model\n",
    "        loaded_x = loaded_graph.get_tensor_by_name('x:0')\n",
    "        loaded_y = loaded_graph.get_tensor_by_name('y:0')\n",
    "        loaded_keep_prob = loaded_graph.get_tensor_by_name('keep_prob:0')\n",
    "        loaded_logits = loaded_graph.get_tensor_by_name('logits:0')\n",
    "        loaded_acc = loaded_graph.get_tensor_by_name('accuracy:0')\n",
    "        \n",
    "        # Get accuracy in batches for memory limitations\n",
    "        test_batch_acc_total = 0\n",
    "        test_batch_count = 0\n",
    "        \n",
    "        for train_feature_batch, train_label_batch in helper.batch_features_labels(test_features, test_labels, batch_size):\n",
    "            test_batch_acc_total += sess.run(\n",
    "                loaded_acc,\n",
    "                feed_dict={loaded_x: train_feature_batch, loaded_y: train_label_batch, loaded_keep_prob: 1.0})\n",
    "            test_batch_count += 1\n",
    "\n",
    "        print('Testing Accuracy: {}\\n'.format(test_batch_acc_total/test_batch_count))\n",
    "\n",
    "        # Print Random Samples\n",
    "        random_test_features, random_test_labels = tuple(zip(*random.sample(list(zip(test_features, test_labels)), n_samples)))\n",
    "        random_test_predictions = sess.run(\n",
    "            tf.nn.top_k(tf.nn.softmax(loaded_logits), top_n_predictions),\n",
    "            feed_dict={loaded_x: random_test_features, loaded_y: random_test_labels, loaded_keep_prob: 1.0})\n",
    "        helper.display_image_predictions(random_test_features, random_test_labels, random_test_predictions)\n",
    "\n",
    "\n",
    "test_model()"
   ]
  }
 ],
 "metadata": {
  "kernelspec": {
   "display_name": "Python 3",
   "language": "python",
   "name": "python3"
  },
  "language_info": {
   "codemirror_mode": {
    "name": "ipython",
    "version": 3
   },
   "file_extension": ".py",
   "mimetype": "text/x-python",
   "name": "python",
   "nbconvert_exporter": "python",
   "pygments_lexer": "ipython3",
   "version": "3.6.6"
  }
 },
 "nbformat": 4,
 "nbformat_minor": 2
}
